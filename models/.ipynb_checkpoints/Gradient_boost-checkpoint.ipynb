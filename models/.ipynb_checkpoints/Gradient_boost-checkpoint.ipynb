{
 "cells": [
  {
   "cell_type": "markdown",
   "id": "298390a5-e375-4af5-86f5-3dfc939847d7",
   "metadata": {},
   "source": [
    "Importing Libraries"
   ]
  },
  {
   "cell_type": "code",
   "execution_count": null,
   "id": "a587b7fb-292d-4973-9b6d-582901752dd6",
   "metadata": {},
   "outputs": [],
   "source": [
    "import numpy as np\n",
    "import pandas as pd\n",
    "from sklearn.preprocessing import StandardScaler, OneHotEncoder #this is not necessary as xgboost does not need it dataset scaled\n",
    "from sklearn.linear_model import LinearRegression\n",
    "from sklearn.metrics import mean_squared_error\n",
    "from sklearn.model_selection import  train_test_split\n",
    "from sklearn.compose import ColumnTransformer\n",
    "from sklearn.ensemble import GradientBoostingRegressor"
   ]
  },
  {
   "cell_type": "markdown",
   "id": "f9d92720-5b21-4846-87ad-0bd4f34f3f4d",
   "metadata": {},
   "source": [
    "Loading the dataset"
   ]
  },
  {
   "cell_type": "code",
   "execution_count": null,
   "id": "f3b4f80f-cd83-4780-b248-5466e89df0a4",
   "metadata": {},
   "outputs": [],
   "source": [
    "data = pd.read_csv(\"/used_cars_data.csv\") #specify the path to your dataset\n",
    "\n",
    "data = pd.DataFrame(data)"
   ]
  },
  {
   "cell_type": "markdown",
   "id": "2e67cc67-33b3-40fd-be45-302aa9cc3202",
   "metadata": {},
   "source": [
    "Making X and y variables "
   ]
  },
  {
   "cell_type": "code",
   "execution_count": null,
   "id": "6fc7be7b-cd1b-4677-bb8d-c90793f86dc2",
   "metadata": {},
   "outputs": [],
   "source": [
    "X = data.drop(\"price\", axis=1)\n",
    "y = data[\"price\"]"
   ]
  },
  {
   "cell_type": "markdown",
   "id": "a4d49254-574f-4e88-955e-14ccb5ca28a3",
   "metadata": {},
   "source": [
    "Splitting into the train and text set"
   ]
  },
  {
   "cell_type": "code",
   "execution_count": null,
   "id": "11d98ba8-96e5-442e-b5fc-61c2a5741e24",
   "metadata": {},
   "outputs": [],
   "source": [
    "X_train, X_test, y_train, y_test = train_test_split(X, y, test_size=0.2, random_state = 32)"
   ]
  },
  {
   "cell_type": "markdown",
   "id": "d2e6368e-f380-4431-85d7-9a8b2c17a4dd",
   "metadata": {},
   "source": [
    "OneHot Encoding the categorical variables, if needed"
   ]
  },
  {
   "cell_type": "code",
   "execution_count": null,
   "id": "2fb4707c-8fb8-42ec-9617-5036ee22804b",
   "metadata": {},
   "outputs": [],
   "source": [
    "ct = ColumnTransformer(transformers = [(\"encoder\", OneHotEncoder(sparse_output=False, handle_unknown='ignore'),[0,1,4,5,6,7,8,9,10])], remainder = \"passthrough\")\n",
    "#Train set\n",
    "x_train = np.array(ct.fit_transform(X_train))\n",
    "\n",
    "#Test set\n",
    "x_test = np.array(ct.transform(X_test))"
   ]
  },
  {
   "cell_type": "markdown",
   "id": "6930b1d9-d6c0-4d6a-8e6f-934c618fbddc",
   "metadata": {},
   "source": [
    "Standardize features, if needed"
   ]
  },
  {
   "cell_type": "code",
   "execution_count": null,
   "id": "a9642a22-984f-422d-bbfb-822e051beefd",
   "metadata": {},
   "outputs": [],
   "source": [
    "scaler = StandardScaler()\n",
    "X_train_scaled = scaler.fit_transform(x_train)\n",
    "X_test_scaled = scaler.transform(x_test)"
   ]
  },
  {
   "cell_type": "markdown",
   "id": "e085d8dd-1db2-45f9-bea1-a870fc9f47d8",
   "metadata": {},
   "source": [
    "Training the model"
   ]
  },
  {
   "cell_type": "code",
   "execution_count": null,
   "id": "b5a998ac-c79b-49b0-8e1e-09ecbc3b7d29",
   "metadata": {},
   "outputs": [],
   "source": [
    "model = GradientBoostingRegressor()\n",
    "\n",
    "model.fit(X_train_scaled, y_train)"
   ]
  },
  {
   "cell_type": "markdown",
   "id": "af175fce-111a-42ab-889d-2bb0c874076d",
   "metadata": {},
   "source": [
    "Predict on the validation set"
   ]
  },
  {
   "cell_type": "code",
   "execution_count": null,
   "id": "17128704-616f-4da4-bd70-4e9d78806946",
   "metadata": {},
   "outputs": [],
   "source": [
    "y_pred = model.predict(X_test_scaled)\n",
    "\n",
    "mse = mean_squared_error(y_test, y_pred)\n",
    "print(\"Mean Squared Error:\", mse)\n",
    "\n",
    "# Calculate Root Mean Squared Error (RMSE)\n",
    "rmse = np.sqrt(mse)\n",
    "\n",
    "print(\"Root Mean Squared Error:\", rmse)"
   ]
  },
  {
   "cell_type": "markdown",
   "id": "e74cda05-666b-4ccb-b848-4a9ad7d108d5",
   "metadata": {},
   "source": [
    "Save the metrics results to a file"
   ]
  },
  {
   "cell_type": "code",
   "execution_count": null,
   "id": "c4500cff-444a-4555-9572-55f467ab17d3",
   "metadata": {},
   "outputs": [],
   "source": [
    "with open(\"metrics.txt\", \"w\") as file:\n",
    "    file.write(f\"Mean Squared Error: {mse}\\n\")\n",
    "    file.write(f\"Root Mean Squared Error: {rmse}\\n\")"
   ]
  },
  {
   "cell_type": "markdown",
   "id": "26f39c3b-0c80-4e25-81d2-131a974724cf",
   "metadata": {},
   "source": [
    "Saving the Prediction if needed"
   ]
  },
  {
   "cell_type": "code",
   "execution_count": null,
   "id": "d76e8224-589a-4296-9ea9-c00faa2b30ce",
   "metadata": {},
   "outputs": [],
   "source": [
    "Prediction_File = pd.DataFrame({'real values': y_test, 'predicted price': y_pred})\n",
    "\n",
    "# Round the 'predicted price' column to 2 decimal places\n",
    "Prediction_File['predicted price'] = Prediction_File['predicted price'].round(2)\n",
    "\n",
    "# Save the DataFrame to a CSV file\n",
    "Prediction_File.to_csv('Prediction.csv', index=False)"
   ]
  }
 ],
 "metadata": {
  "kernelspec": {
   "display_name": "Python 3 (ipykernel)",
   "language": "python",
   "name": "python3"
  },
  "language_info": {
   "codemirror_mode": {
    "name": "ipython",
    "version": 3
   },
   "file_extension": ".py",
   "mimetype": "text/x-python",
   "name": "python",
   "nbconvert_exporter": "python",
   "pygments_lexer": "ipython3",
   "version": "3.12.3"
  }
 },
 "nbformat": 4,
 "nbformat_minor": 5
}
