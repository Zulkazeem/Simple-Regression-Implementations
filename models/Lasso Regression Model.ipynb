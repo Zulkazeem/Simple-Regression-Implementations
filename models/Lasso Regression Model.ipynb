{
 "cells": [
  {
   "cell_type": "markdown",
   "id": "19688b58",
   "metadata": {},
   "source": [
    "This is a simple lasso regression model to predict the prices of used cars using the used_cars dataset."
   ]
  },
  {
   "cell_type": "markdown",
   "id": "1eaa57fe",
   "metadata": {},
   "source": [
    "# Loading the libraries"
   ]
  },
  {
   "cell_type": "code",
   "execution_count": null,
   "id": "76085cb8",
   "metadata": {},
   "outputs": [],
   "source": [
    "import numpy as np\n",
    "import pandas as pd\n",
    "from sklearn.preprocessing import StandardScaler, OneHotEncoder\n",
    "from sklearn.linear_model import Lasso\n",
    "from sklearn.metrics import mean_squared_error\n",
    "from sklearn.model_selection import  train_test_split\n",
    "from sklearn.compose import ColumnTransformer"
   ]
  },
  {
   "cell_type": "markdown",
   "id": "88e45baf",
   "metadata": {},
   "source": [
    "# Importing the dataset"
   ]
  },
  {
   "cell_type": "code",
   "execution_count": null,
   "id": "6814af93",
   "metadata": {},
   "outputs": [],
   "source": [
    "data = pd.read_csv(\"/used_cars_data.csv\") #specify the path to your dataset\n",
    "\n",
    "data = pd.DataFrame(data)"
   ]
  },
  {
   "cell_type": "markdown",
   "id": "3b1896dd",
   "metadata": {},
   "source": [
    "# Specify the features and the target variable"
   ]
  },
  {
   "cell_type": "code",
   "execution_count": null,
   "id": "f34c13e3",
   "metadata": {},
   "outputs": [],
   "source": [
    "# Split features and target variable\n",
    "X = data.drop(columns=[\"price\"])\n",
    "y = data[\"price\"]"
   ]
  },
  {
   "cell_type": "markdown",
   "id": "3f696489",
   "metadata": {},
   "source": [
    "# Splitting into training and test set"
   ]
  },
  {
   "cell_type": "code",
   "execution_count": null,
   "id": "5bc02d58",
   "metadata": {},
   "outputs": [],
   "source": [
    "# Split data into train and test sets\n",
    "X_train, X_test, y_train, y_test = train_test_split(X, y, test_size=0.2, random_state=42)"
   ]
  },
  {
   "cell_type": "markdown",
   "id": "5d007276",
   "metadata": {},
   "source": [
    "# Encoding the categorical features"
   ]
  },
  {
   "cell_type": "code",
   "execution_count": null,
   "id": "abdb781d",
   "metadata": {},
   "outputs": [],
   "source": [
    "ct = ColumnTransformer(transformers = [(\"encoder\", OneHotEncoder(sparse_output=False, handle_unknown='ignore'),[0,1,4,5,6,7,8,9,10])], remainder = \"passthrough\")\n",
    "#Train set\n",
    "x_train = np.array(ct.fit_transform(X_train))\n",
    "\n",
    "#Test set\n",
    "x_test = np.array(ct.transform(X_test))"
   ]
  },
  {
   "cell_type": "markdown",
   "id": "bea05614",
   "metadata": {},
   "source": [
    "# Standardizing the dataset"
   ]
  },
  {
   "cell_type": "code",
   "execution_count": null,
   "id": "13bfc62f",
   "metadata": {},
   "outputs": [],
   "source": [
    "# Standardize features, if needed\n",
    "scaler = StandardScaler()\n",
    "x_train = scaler.fit_transform(x_train)\n",
    "x_test = scaler.transform(x_test)"
   ]
  },
  {
   "cell_type": "markdown",
   "id": "d53be8a6",
   "metadata": {},
   "source": [
    "# Training the Lasso Regression Model"
   ]
  },
  {
   "cell_type": "code",
   "execution_count": null,
   "id": "6f35f2e6",
   "metadata": {},
   "outputs": [],
   "source": [
    "# Initialize the Lasso Regression model\n",
    "model = Lasso(alpha=20) #you can vary the value of alpha as you see fit to procude the best model\n",
    "\n",
    "# Fit the model to the training data and evaluate as shown above\n",
    "model.fit(x_train, y_train)"
   ]
  },
  {
   "cell_type": "markdown",
   "id": "fe197ddd",
   "metadata": {},
   "source": [
    "# Testing and calculating the performance of the model"
   ]
  },
  {
   "cell_type": "code",
   "execution_count": null,
   "id": "95d64eb9",
   "metadata": {},
   "outputs": [],
   "source": [
    "#prediction\n",
    "y_pred =  model.predict(x_test)\n",
    "\n",
    "#mse\n",
    "mse = mean_squared_error(y_pred, y_test)\n",
    "rmse = np.sqrt(mse)\n",
    "\n",
    "print(f\"The mse score is: {mse}\")\n",
    "print(f\"This is the rmse score: {rmse}\") #other evaluation metrics can also be used liked r-squared"
   ]
  },
  {
   "cell_type": "markdown",
   "id": "70055f2a-b8d1-4e55-b25f-7c5355b3dad7",
   "metadata": {},
   "source": [
    "Save the metrics"
   ]
  },
  {
   "cell_type": "code",
   "execution_count": null,
   "id": "d9bd3cc7-3ab4-48eb-9a85-960b2ad7ae61",
   "metadata": {},
   "outputs": [],
   "source": [
    "with open(\"metrics.txt\", \"w\") as file:\n",
    "    file.write(f\"Mean Squared Error: {mse}\\n\")\n",
    "    file.write(f\"Root Mean Squared Error: {rmse}\\n\")"
   ]
  },
  {
   "cell_type": "markdown",
   "id": "1c27190f-8e70-4ee5-9716-b7e652703f33",
   "metadata": {},
   "source": [
    "Saving the predicitons"
   ]
  },
  {
   "cell_type": "code",
   "execution_count": null,
   "id": "52b5f715",
   "metadata": {},
   "outputs": [],
   "source": [
    "Prediction_File = pd.DataFrame({'real values': y_test, 'predicted price': y_pred})\n",
    "\n",
    "# Round the 'predicted price' column to 2 decimal places\n",
    "Prediction_File['predicted price'] = Prediction_File['predicted price'].round(2)\n",
    "\n",
    "# Save the DataFrame to a CSV file\n",
    "Prediction_File.to_csv('Prediction.csv', index=False)"
   ]
  }
 ],
 "metadata": {
  "kernelspec": {
   "display_name": "Python 3 (ipykernel)",
   "language": "python",
   "name": "python3"
  },
  "language_info": {
   "codemirror_mode": {
    "name": "ipython",
    "version": 3
   },
   "file_extension": ".py",
   "mimetype": "text/x-python",
   "name": "python",
   "nbconvert_exporter": "python",
   "pygments_lexer": "ipython3",
   "version": "3.12.3"
  }
 },
 "nbformat": 4,
 "nbformat_minor": 5
}
